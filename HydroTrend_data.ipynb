{
 "cells": [
  {
   "cell_type": "code",
   "execution_count": 1,
   "id": "57e093c9-7914-4b1a-a97b-f0488a901d97",
   "metadata": {},
   "outputs": [],
   "source": [
    "from bmi_topography import Topography\n",
    "# import packages \n",
    "import os\n",
    "import warnings\n",
    "\n",
    "import numpy as np\n",
    "import pandas as pd\n",
    "import xarray\n",
    "from datetime import datetime\n",
    "import cftime\n",
    "import matplotlib.pyplot as plt\n",
    "from matplotlib import colors\n",
    "import imageio.v2 as imageio\n",
    "from IPython.display import Video\n",
    "from tqdm import trange\n",
    "\n",
    "from pymt.models import Topography, Era5\n",
    "from landlab import RasterModelGrid, imshow_grid, imshow_grid_at_node\n",
    "from landlab.components import FlowAccumulator, ChannelProfiler\n",
    "from landlab.components.overland_flow import OverlandFlow\n",
    "from landlab.plot.drainage_plot import drainage_plot\n",
    "from landlab.utils import get_watershed_mask\n",
    "\n",
    "warnings.simplefilter(action='ignore', category=FutureWarning)\n",
    "plt.rcParams.update({'font.size': 14})"
   ]
  },
  {
   "cell_type": "code",
   "execution_count": 2,
   "id": "9fd96d96-46aa-4ec7-a515-bdb522bf19ed",
   "metadata": {},
   "outputs": [],
   "source": [
    "# topo = Topography(\n",
    "#     dem_type=\"SRTMGL3\",\n",
    "#     south=36.166667,\n",
    "#     north=36.333333,\n",
    "#     west=-121.916667,\n",
    "#     east=-121.583333,\n",
    "#     output_format=\"GTiff\",\n",
    "#     cache_dir=\".\",\n",
    "# )"
   ]
  },
  {
   "cell_type": "code",
   "execution_count": 3,
   "id": "9895d393-5674-4748-be3c-e4ed74ee2c52",
   "metadata": {},
   "outputs": [],
   "source": [
    "# fname = topo.fetch()\n",
    "# print(fname)"
   ]
  },
  {
   "cell_type": "code",
   "execution_count": 4,
   "id": "a472365e-a3ed-4c4f-b6ba-f2dbc786c438",
   "metadata": {},
   "outputs": [],
   "source": [
    "# topo = topo.load()\n",
    "# print(topo)"
   ]
  },
  {
   "cell_type": "code",
   "execution_count": 5,
   "id": "ff7fa438-49bf-4644-bc1e-1925b8c4465d",
   "metadata": {},
   "outputs": [],
   "source": [
    "# topo.plot()"
   ]
  },
  {
   "cell_type": "code",
   "execution_count": null,
   "id": "edd5b94a-410b-46f7-8cde-f76baf8aa152",
   "metadata": {},
   "outputs": [
    {
     "name": "stderr",
     "output_type": "stream",
     "text": [
      "/opt/tljh/user/envs/csdms/lib/python3.12/site-packages/bmi_topography/api_key.py:48: UserWarning: You are using a demo key to fetch data from OpenTopography, functionality will be limited. See https://bmi-topography.readthedocs.io/en/latest/#api-key for more information.\n",
      "  warnings.warn(\n"
     ]
    }
   ],
   "source": [
    "config_dir = \"config_dir\"\n",
    "dem = Topography()\n",
    "dem.initialize(os.path.join(config_dir, 'dem.yaml'))\n"
   ]
  },
  {
   "cell_type": "code",
   "execution_count": null,
   "id": "5544e422-a34a-4f47-b6e8-3a3e39bd1da6",
   "metadata": {},
   "outputs": [],
   "source": [
    "# get DEM variable info\n",
    "var_name = dem.output_var_names[0]\n",
    "var_unit = dem.var_units(var_name)\n",
    "var_location = dem.var_location(var_name)\n",
    "var_type = dem.var_type(var_name)\n",
    "var_grid = dem.var_grid(var_name)\n",
    "var_itemsize = dem.var_itemsize(var_name)\n",
    "var_nbytes = dem.var_nbytes(var_name)\n",
    "print('variable_name: {} \\nvar_unit: {} \\nvar_location: {} \\nvar_type: {} \\nvar_grid: {} \\nvar_itemsize: {}' \n",
    "            '\\nvar_nbytes: {} \\n'. format(var_name, var_unit, var_location, var_type, var_grid, var_itemsize, var_nbytes))"
   ]
  },
  {
   "cell_type": "code",
   "execution_count": null,
   "id": "4ff72d85-29b5-425d-921f-87f5316177e8",
   "metadata": {},
   "outputs": [],
   "source": [
    "# get DEM grid info \n",
    "dem_grid_ndim = dem.grid_ndim(var_grid) \n",
    "dem_grid_type = dem.grid_type(var_grid)\n",
    "dem_grid_shape = dem.grid_shape(var_grid)\n",
    "dem_grid_spacing = dem.grid_spacing(var_grid)\n",
    "dem_grid_origin = dem.grid_origin(var_grid)\n",
    "\n",
    "print('grid_ndim: {} \\ngrid_type: {} \\ngrid_shape: {} \\ngrid_spacing: {} \\ngrid_origin: {}'.format(\n",
    "    dem_grid_ndim, dem_grid_type, dem_grid_shape, dem_grid_spacing, dem_grid_origin))"
   ]
  },
  {
   "cell_type": "code",
   "execution_count": null,
   "id": "1e5b2c87-8202-4659-bcb5-fb6e8c503121",
   "metadata": {},
   "outputs": [],
   "source": [
    "# get DEM variable data\n",
    "dem_data = dem.get_value(var_name)\n",
    "dem_data_2D = dem_data.reshape(dem_grid_shape)\n",
    "\n",
    "# get X, Y extent for plot\n",
    "min_y, min_x = dem_grid_origin\n",
    "max_y = min_y + dem_grid_spacing[0]*(dem_grid_shape[0]-1)\n",
    "max_x = min_x + dem_grid_spacing[1]*(dem_grid_shape[1]-1)\n",
    "dy = dem_grid_spacing[0]/2\n",
    "dx = dem_grid_spacing[1]/2\n",
    "dem_extent = [min_x - dx, max_x + dx, min_y - dy, max_y + dy]\n",
    "\n",
    "# plot DEM data\n",
    "fig, ax = plt.subplots(1,1,figsize=(10,5))\n",
    "im = ax.imshow(dem_data_2D, extent=dem_extent)\n",
    "ax.title.set_text('Topography Data')\n",
    "ax.set_xlabel('latitude [degree_north]')\n",
    "ax.set_ylabel('longitude [degree_east]')\n",
    "fig.colorbar(im,label='elevation(m)')"
   ]
  },
  {
   "cell_type": "code",
   "execution_count": null,
   "id": "8af0c74b-26d0-4f0c-ac01-d5b312a7129b",
   "metadata": {},
   "outputs": [],
   "source": [
    "# set up raster model grid  \n",
    "model_grid = RasterModelGrid(dem_grid_shape, xy_spacing=30)\n",
    "\n",
    "# add topographic elevation data field\n",
    "dem_field = model_grid.add_field(\"topographic__elevation\", dem_data.astype('float'))\n",
    "\n",
    "# plot the topographic elevation data field\n",
    "plt.figure(figsize=(10,5))\n",
    "ax = plt.gca()\n",
    "ax.invert_yaxis()\n",
    "imshow_grid(model_grid,\n",
    "            'topographic__elevation',\n",
    "            plot_name='Data field of topographic elevation',\n",
    "            var_name='elevation(m)')\n",
    "ax.set_xlabel('east-west distance (m)')\n",
    "ax.set_ylabel('north-south distance (m)')\n"
   ]
  },
  {
   "cell_type": "code",
   "execution_count": null,
   "id": "2a8fc931-8999-4351-922a-607d45fc5cd4",
   "metadata": {},
   "outputs": [],
   "source": [
    "# calculate the flow accumulation\n",
    "fa=FlowAccumulator( model_grid, method='Steepest', \n",
    "                    flow_director='FlowDirectorSteepest', \n",
    "                    depression_finder='LakeMapperBarnes',\n",
    "                    redirect_flow_steepest_descent=True,\n",
    "                    reaccumulate_flow=True)\n",
    "fa.run_one_step()"
   ]
  },
  {
   "cell_type": "code",
   "execution_count": null,
   "id": "67674b9e-caf2-4ca0-b0b9-41579a8d8945",
   "metadata": {},
   "outputs": [],
   "source": [
    "# plot the flow accumulation result\n",
    "plt.figure(figsize=(10,5))\n",
    "ax = plt.gca()\n",
    "ax.invert_yaxis()\n",
    "imshow_grid(\n",
    "    model_grid,\n",
    "    np.sqrt(model_grid.at_node[\"drainage_area\"]),\n",
    "    plot_name=\"Data field of drainage area\",\n",
    "    var_name=\"square root of drainage area\",\n",
    ")\n",
    "ax.set_xlabel('east-west distance (m)')\n",
    "ax.set_ylabel('north-south distance (m)')"
   ]
  },
  {
   "cell_type": "code",
   "execution_count": null,
   "id": "2fc2ce28-d1ae-4598-ad36-fb4eec43b950",
   "metadata": {},
   "outputs": [],
   "source": [
    "# set up channel profiler \n",
    "profiler = ChannelProfiler(model_grid,number_of_watersheds=1)\n",
    "profiler.run_one_step()"
   ]
  },
  {
   "cell_type": "code",
   "execution_count": null,
   "id": "4db1ea93-04c7-452c-832d-f2dd18812e54",
   "metadata": {},
   "outputs": [],
   "source": [
    "# get watershed mask\n",
    "outlet = profiler.nodes[0][0]\n",
    "watershed_mask = get_watershed_mask(model_grid, outlet)"
   ]
  },
  {
   "cell_type": "code",
   "execution_count": null,
   "id": "5aa050c9-fd01-4ba4-86ab-eca16fcf3742",
   "metadata": {},
   "outputs": [],
   "source": [
    "# set watershed boundary\n",
    "model_grid.at_node[\"topographic__elevation\"][~watershed_mask] = -9999.0\n",
    "model_grid.status_at_node[~watershed_mask] = model_grid.BC_NODE_IS_CLOSED\n",
    "model_grid.status_at_node[outlet] = model_grid.BC_NODE_IS_FIXED_VALUE"
   ]
  },
  {
   "cell_type": "code",
   "execution_count": null,
   "id": "68d2dcaa-95f0-4a38-b2a5-c25d296fd294",
   "metadata": {},
   "outputs": [],
   "source": [
    "# plot the watershed \n",
    "plt.figure(figsize=(10,5))\n",
    "ax = plt.gca()\n",
    "ax.invert_yaxis()\n",
    "imshow_grid_at_node(model_grid, dem_field, \n",
    "                    plot_name='Topographic elevation of the watershed',\n",
    "                    colorbar_label=\"elevation (m)\")\n",
    "\n",
    "ax.set_xlabel('east-west distance (m)')\n",
    "ax.set_ylabel('north-south distance (m)')"
   ]
  },
  {
   "cell_type": "code",
   "execution_count": null,
   "id": "bcfeb0fb-6019-4c7a-aac3-b80ab7a7b087",
   "metadata": {},
   "outputs": [],
   "source": [
    "watershed_mask"
   ]
  },
  {
   "cell_type": "code",
   "execution_count": null,
   "id": "f828d79a-dc3b-4c73-a2cd-3e2550981f84",
   "metadata": {},
   "outputs": [],
   "source": [
    "# bins = np.arange(0, 1500, 25)\n",
    "edges_eq   = np.linspace(0, dem_field.max(), 25)\n",
    "hist_eq, _ = np.histogram(dem_field, bins=edges_eq)\n"
   ]
  },
  {
   "cell_type": "code",
   "execution_count": null,
   "id": "6e7d2758-885c-4292-b48a-365ab67d31d7",
   "metadata": {},
   "outputs": [],
   "source": [
    "hist_eq"
   ]
  },
  {
   "cell_type": "code",
   "execution_count": null,
   "id": "10c04a5e-49cc-48d6-8724-5bdef35795f0",
   "metadata": {},
   "outputs": [],
   "source": [
    "area = np.sum(hist_eq)\n",
    "area"
   ]
  },
  {
   "cell_type": "code",
   "execution_count": null,
   "id": "262a1218-e5f1-4d1d-97a9-2bf4692c5aec",
   "metadata": {},
   "outputs": [],
   "source": [
    "hist_eq_proportion=hist_eq/area*100\n",
    "hist_eq_proportion"
   ]
  },
  {
   "cell_type": "code",
   "execution_count": null,
   "id": "50e40679-efd7-4650-934b-ee9552ab895b",
   "metadata": {},
   "outputs": [],
   "source": [
    "check = np.sum(hist_eq_proportion)\n",
    "check"
   ]
  },
  {
   "cell_type": "code",
   "execution_count": null,
   "id": "4acf5899-0501-4156-a7d9-9e900fb3884c",
   "metadata": {},
   "outputs": [],
   "source": [
    "watershed_mask = np.where(\n",
    "    model_grid.at_node['topographic__elevation'] > 0,\n",
    "    1,\n",
    "    0\n",
    ")\n",
    "area = model_grid.cell_area_at_node * watershed_mask\n",
    "total=np.sum(area / 1e6)"
   ]
  },
  {
   "cell_type": "code",
   "execution_count": null,
   "id": "528f6887-f3d3-4343-af9a-92d81962c219",
   "metadata": {},
   "outputs": [],
   "source": [
    "bins_elevation_sqkm = hist_eq_proportion * 1e-2 * total\n",
    "bins_elevation_sqkm"
   ]
  },
  {
   "cell_type": "code",
   "execution_count": null,
   "id": "493ca7b7-eb62-4314-907f-c9c03e287a0d",
   "metadata": {},
   "outputs": [],
   "source": [
    "np.sum(bins_elevation_sqkm)"
   ]
  },
  {
   "cell_type": "code",
   "execution_count": null,
   "id": "53cb8432-27bf-4006-9b71-ffaf0644e880",
   "metadata": {},
   "outputs": [],
   "source": [
    "\n",
    "plt.plot(bins_elevation_sqkm[1:])\n",
    "plt.xlabel(\"Bins \")      # ← x‑axis label\n",
    "plt.ylabel(\"Area in each bin [km2]\")\n",
    "plt.show()"
   ]
  },
  {
   "cell_type": "code",
   "execution_count": null,
   "id": "812070ec-64a6-406b-9b1e-de2d0588254d",
   "metadata": {},
   "outputs": [],
   "source": []
  }
 ],
 "metadata": {
  "kernelspec": {
   "display_name": "CSDMS",
   "language": "python",
   "name": "csdms"
  },
  "language_info": {
   "codemirror_mode": {
    "name": "ipython",
    "version": 3
   },
   "file_extension": ".py",
   "mimetype": "text/x-python",
   "name": "python",
   "nbconvert_exporter": "python",
   "pygments_lexer": "ipython3",
   "version": "3.12.7"
  }
 },
 "nbformat": 4,
 "nbformat_minor": 5
}
